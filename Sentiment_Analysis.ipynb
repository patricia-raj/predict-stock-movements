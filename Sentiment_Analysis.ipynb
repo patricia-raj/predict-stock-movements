{
 "cells": [
  {
   "cell_type": "code",
   "execution_count": 1,
   "id": "e7c997ed-1f9b-466b-8e83-02238fac12df",
   "metadata": {},
   "outputs": [],
   "source": [
    "# Sentiment Analysis Working Notebook"
   ]
  },
  {
   "cell_type": "code",
   "execution_count": 2,
   "id": "fa1b1b99-269e-4745-9609-7117ad0f6d49",
   "metadata": {},
   "outputs": [],
   "source": [
    "# Master list of all the tickers\n",
    "ticker_list = ['TSLA', 'ARKK','JNJ','NVDA','XOM']\n",
    "ticker_sent = {}"
   ]
  },
  {
   "cell_type": "code",
   "execution_count": 3,
   "id": "624a41fb",
   "metadata": {},
   "outputs": [
    {
     "name": "stderr",
     "output_type": "stream",
     "text": [
      "[nltk_data] Downloading package vader_lexicon to\n",
      "[nltk_data]     /Users/bkamalnivas/nltk_data...\n",
      "[nltk_data]   Package vader_lexicon is already up-to-date!\n"
     ]
    }
   ],
   "source": [
    "# Initial imports\n",
    "import pandas as pd\n",
    "from pathlib import Path\n",
    "import os\n",
    "from dotenv import load_dotenv\n",
    "import nltk as nltk\n",
    "nltk.download('vader_lexicon')\n",
    "from nltk.sentiment.vader import SentimentIntensityAnalyzer\n",
    "analyzer = SentimentIntensityAnalyzer()\n",
    "\n",
    "get_ipython().run_line_magic(\"matplotlib\", \"inline\")\n",
    "analyzer = SentimentIntensityAnalyzer()\n",
    "\n",
    "%matplotlib inline"
   ]
  },
  {
   "cell_type": "code",
   "execution_count": 4,
   "id": "8e412b9b-ec7f-4be4-8cb2-2ed33cf83029",
   "metadata": {},
   "outputs": [],
   "source": [
    "def get_ticker_news(ticker):\n",
    "    data_csv_path = Path(\"Resources/news/\" + ticker + \".csv\")\n",
    "    data_df = pd.read_csv(data_csv_path)\n",
    "    data_df['Date'] = pd.to_datetime(data_df['Date']).dt.date\n",
    "    data_df = data_df.groupby('Date')['Title', 'Description'].agg(lambda column: \". \".join(column))\n",
    "    return data_df\n",
    "    "
   ]
  },
  {
   "cell_type": "code",
   "execution_count": 5,
   "id": "43aca357-390b-4b3d-96d9-e1936a19ae42",
   "metadata": {},
   "outputs": [],
   "source": [
    "def get_ticker_price():\n",
    "    data_csv_path = Path(\"Resources/prices/close.csv\")\n",
    "    data_df = pd.read_csv(data_csv_path)\n",
    "    data_df['Date'] = pd.to_datetime(data_df['Date']).dt.date\n",
    "    data_df = data_df.set_index('Date')\n",
    "   \n",
    "    return data_df"
   ]
  },
  {
   "cell_type": "code",
   "execution_count": 6,
   "id": "d47aad68",
   "metadata": {},
   "outputs": [],
   "source": [
    "# Sentiment calculation based on compound score\n",
    "def get_sentiment(score):\n",
    "    \"\"\"\n",
    "    Calculates the sentiment based on the compound score.\n",
    "    \"\"\"\n",
    "    result = 0  # Neutral by default\n",
    "    if score >= 0.05:  # Positive\n",
    "        result = 1\n",
    "    elif score <= -0.05:  # Negative\n",
    "        result = -1\n",
    "\n",
    "    return result"
   ]
  },
  {
   "cell_type": "code",
   "execution_count": 7,
   "id": "500f9f88",
   "metadata": {},
   "outputs": [],
   "source": [
    "def get_sentiment_score(ticker):\n",
    "    data_df = get_ticker_news(ticker)\n",
    "    data_df = data_df.reset_index()\n",
    "    title_sent = {\n",
    "    \"title_compound\": [],\n",
    "    \"title_pos\": [],\n",
    "    \"title_neu\": [],\n",
    "    \"title_neg\": [],\n",
    "    \"title_sent\": [],\n",
    "    }\n",
    "    text_sent = {\n",
    "    \"text_compound\": [],\n",
    "    \"text_pos\": [],\n",
    "    \"text_neu\": [],\n",
    "    \"text_neg\": [],\n",
    "    \"text_sent\": [],\n",
    "    }\n",
    "\n",
    "    # Get sentiment for the text and the title\n",
    "    for index, row in data_df.iterrows():\n",
    "        try:\n",
    "            # Sentiment scoring with VADER\n",
    "            title_sentiment = analyzer.polarity_scores(row[\"Title\"])\n",
    "            title_sent[\"title_compound\"].append(title_sentiment[\"compound\"])\n",
    "            title_sent[\"title_pos\"].append(title_sentiment[\"pos\"])\n",
    "            title_sent[\"title_neu\"].append(title_sentiment[\"neu\"])\n",
    "            title_sent[\"title_neg\"].append(title_sentiment[\"neg\"])\n",
    "            title_sent[\"title_sent\"].append(get_sentiment(title_sentiment[\"compound\"]))\n",
    "\n",
    "            text_sentiment = analyzer.polarity_scores(row[\"Description\"])\n",
    "            text_sent[\"text_compound\"].append(text_sentiment[\"compound\"])\n",
    "            text_sent[\"text_pos\"].append(text_sentiment[\"pos\"])\n",
    "            text_sent[\"text_neu\"].append(text_sentiment[\"neu\"])\n",
    "            text_sent[\"text_neg\"].append(text_sentiment[\"neg\"])\n",
    "            text_sent[\"text_sent\"].append(get_sentiment(text_sentiment[\"compound\"]))\n",
    "        except AttributeError:\n",
    "            pass\n",
    "\n",
    "    # Attaching sentiment columns to the News DataFrame\n",
    "    title_sentiment_df = pd.DataFrame(title_sent)\n",
    "    text_sentiment_df = pd.DataFrame(text_sent)\n",
    "    data_df = data_df.join(title_sentiment_df).join(text_sentiment_df)\n",
    "    data_df = data_df.set_index('Date')\n",
    "    return data_df\n",
    "    \n",
    "    "
   ]
  },
  {
   "cell_type": "code",
   "execution_count": 8,
   "id": "a29aa933",
   "metadata": {},
   "outputs": [],
   "source": [
    "def get_clean_df():\n",
    "    # All the closing prices are in single csv, read that\n",
    "    data_df_close = get_ticker_price()\n",
    "    data_df_close.head()\n",
    "\n",
    "    # Get the sentiment of all the tickers\n",
    "    for ticker in ticker_list:\n",
    "       data_df = get_sentiment_score(ticker)\n",
    "       data_df['Close'] = data_df_close[ticker]\n",
    "       data_df = data_df[['title_compound', 'text_compound', 'Close']]\n",
    "       data_df = data_df.dropna()\n",
    "       ticker_sent[ticker] = data_df\n",
    "\n"
   ]
  },
  {
   "cell_type": "code",
   "execution_count": 9,
   "id": "75b36fcf",
   "metadata": {},
   "outputs": [
    {
     "name": "stderr",
     "output_type": "stream",
     "text": [
      "/Users/bkamalnivas/opt/anaconda3/envs/dev/lib/python3.7/site-packages/ipykernel_launcher.py:5: FutureWarning: Indexing with multiple keys (implicitly converted to a tuple of keys) will be deprecated, use a list instead.\n",
      "  \"\"\"\n"
     ]
    }
   ],
   "source": [
    "# Call the API to get the final DF for ML to work \n",
    "get_clean_df()"
   ]
  },
  {
   "cell_type": "code",
   "execution_count": 10,
   "id": "4c81e0fb-c310-4bdd-bae4-88248ad8227d",
   "metadata": {},
   "outputs": [
    {
     "data": {
      "text/html": [
       "<div>\n",
       "<style scoped>\n",
       "    .dataframe tbody tr th:only-of-type {\n",
       "        vertical-align: middle;\n",
       "    }\n",
       "\n",
       "    .dataframe tbody tr th {\n",
       "        vertical-align: top;\n",
       "    }\n",
       "\n",
       "    .dataframe thead th {\n",
       "        text-align: right;\n",
       "    }\n",
       "</style>\n",
       "<table border=\"1\" class=\"dataframe\">\n",
       "  <thead>\n",
       "    <tr style=\"text-align: right;\">\n",
       "      <th></th>\n",
       "      <th>title_compound</th>\n",
       "      <th>text_compound</th>\n",
       "      <th>Close</th>\n",
       "    </tr>\n",
       "    <tr>\n",
       "      <th>Date</th>\n",
       "      <th></th>\n",
       "      <th></th>\n",
       "      <th></th>\n",
       "    </tr>\n",
       "  </thead>\n",
       "  <tbody>\n",
       "    <tr>\n",
       "      <th>2022-01-03</th>\n",
       "      <td>0.9393</td>\n",
       "      <td>0.9928</td>\n",
       "      <td>301.209991</td>\n",
       "    </tr>\n",
       "    <tr>\n",
       "      <th>2022-01-04</th>\n",
       "      <td>0.6174</td>\n",
       "      <td>0.9922</td>\n",
       "      <td>292.899994</td>\n",
       "    </tr>\n",
       "    <tr>\n",
       "      <th>2022-01-05</th>\n",
       "      <td>0.8970</td>\n",
       "      <td>0.9979</td>\n",
       "      <td>276.040009</td>\n",
       "    </tr>\n",
       "    <tr>\n",
       "      <th>2022-01-06</th>\n",
       "      <td>0.7003</td>\n",
       "      <td>0.9304</td>\n",
       "      <td>281.779999</td>\n",
       "    </tr>\n",
       "    <tr>\n",
       "      <th>2022-01-07</th>\n",
       "      <td>0.6692</td>\n",
       "      <td>0.9851</td>\n",
       "      <td>272.470001</td>\n",
       "    </tr>\n",
       "    <tr>\n",
       "      <th>...</th>\n",
       "      <td>...</td>\n",
       "      <td>...</td>\n",
       "      <td>...</td>\n",
       "    </tr>\n",
       "    <tr>\n",
       "      <th>2022-05-24</th>\n",
       "      <td>0.8316</td>\n",
       "      <td>0.9538</td>\n",
       "      <td>161.539993</td>\n",
       "    </tr>\n",
       "    <tr>\n",
       "      <th>2022-05-25</th>\n",
       "      <td>0.8979</td>\n",
       "      <td>0.9334</td>\n",
       "      <td>169.750000</td>\n",
       "    </tr>\n",
       "    <tr>\n",
       "      <th>2022-05-26</th>\n",
       "      <td>0.8466</td>\n",
       "      <td>0.9726</td>\n",
       "      <td>178.509995</td>\n",
       "    </tr>\n",
       "    <tr>\n",
       "      <th>2022-05-27</th>\n",
       "      <td>0.5519</td>\n",
       "      <td>0.9718</td>\n",
       "      <td>188.110001</td>\n",
       "    </tr>\n",
       "    <tr>\n",
       "      <th>2022-05-31</th>\n",
       "      <td>-0.9580</td>\n",
       "      <td>0.7184</td>\n",
       "      <td>186.720001</td>\n",
       "    </tr>\n",
       "  </tbody>\n",
       "</table>\n",
       "<p>103 rows × 3 columns</p>\n",
       "</div>"
      ],
      "text/plain": [
       "            title_compound  text_compound       Close\n",
       "Date                                                 \n",
       "2022-01-03          0.9393         0.9928  301.209991\n",
       "2022-01-04          0.6174         0.9922  292.899994\n",
       "2022-01-05          0.8970         0.9979  276.040009\n",
       "2022-01-06          0.7003         0.9304  281.779999\n",
       "2022-01-07          0.6692         0.9851  272.470001\n",
       "...                    ...            ...         ...\n",
       "2022-05-24          0.8316         0.9538  161.539993\n",
       "2022-05-25          0.8979         0.9334  169.750000\n",
       "2022-05-26          0.8466         0.9726  178.509995\n",
       "2022-05-27          0.5519         0.9718  188.110001\n",
       "2022-05-31         -0.9580         0.7184  186.720001\n",
       "\n",
       "[103 rows x 3 columns]"
      ]
     },
     "execution_count": 10,
     "metadata": {},
     "output_type": "execute_result"
    }
   ],
   "source": [
    "ticker_sent['NVDA']"
   ]
  },
  {
   "cell_type": "code",
   "execution_count": null,
   "id": "a089ae08-efcb-441e-880d-37937ddc9c5f",
   "metadata": {},
   "outputs": [],
   "source": []
  }
 ],
 "metadata": {
  "kernelspec": {
   "display_name": "Python 3 (ipykernel)",
   "language": "python",
   "name": "python3"
  },
  "language_info": {
   "codemirror_mode": {
    "name": "ipython",
    "version": 3
   },
   "file_extension": ".py",
   "mimetype": "text/x-python",
   "name": "python",
   "nbconvert_exporter": "python",
   "pygments_lexer": "ipython3",
   "version": "3.7.11"
  }
 },
 "nbformat": 4,
 "nbformat_minor": 5
}
