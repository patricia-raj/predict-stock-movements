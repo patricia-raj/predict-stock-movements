{
 "cells": [
  {
   "cell_type": "code",
   "execution_count": 51,
   "id": "fb0f3a0a-370e-4ad9-bfcb-f14530e3350e",
   "metadata": {},
   "outputs": [],
   "source": [
    "import pandas as pd\n",
    "from pathlib import Path"
   ]
  },
  {
   "cell_type": "code",
   "execution_count": 54,
   "id": "135a5f3c-110f-4257-8c06-0e2f8f94d4e4",
   "metadata": {},
   "outputs": [],
   "source": [
    "def get_ticker_news(ticker):\n",
    "    data_csv_path = Path(\"Resources/news/\" + ticker + \".csv\")\n",
    "    data_df = pd.read_csv(data_csv_path)\n",
    "    data_df['Date'] = pd.to_datetime(data_df['Date']).dt.date\n",
    "    data_df = data_df.groupby('Date')['Title', 'Description'].agg(lambda column: \". \".join(column))\n",
    "    return data_df\n",
    "    \n",
    "\n",
    "def get_ticker_price():\n",
    "    print('in progress...')"
   ]
  },
  {
   "cell_type": "code",
   "execution_count": 55,
   "id": "610c540d-e593-4c1c-9801-dcd756f36f4a",
   "metadata": {},
   "outputs": [
    {
     "name": "stderr",
     "output_type": "stream",
     "text": [
      "/Users/bkamalnivas/opt/anaconda3/envs/dev/lib/python3.7/site-packages/ipykernel_launcher.py:5: FutureWarning: Indexing with multiple keys (implicitly converted to a tuple of keys) will be deprecated, use a list instead.\n",
      "  \"\"\"\n"
     ]
    },
    {
     "data": {
      "text/html": [
       "<div>\n",
       "<style scoped>\n",
       "    .dataframe tbody tr th:only-of-type {\n",
       "        vertical-align: middle;\n",
       "    }\n",
       "\n",
       "    .dataframe tbody tr th {\n",
       "        vertical-align: top;\n",
       "    }\n",
       "\n",
       "    .dataframe thead th {\n",
       "        text-align: right;\n",
       "    }\n",
       "</style>\n",
       "<table border=\"1\" class=\"dataframe\">\n",
       "  <thead>\n",
       "    <tr style=\"text-align: right;\">\n",
       "      <th></th>\n",
       "      <th>Title</th>\n",
       "      <th>Description</th>\n",
       "    </tr>\n",
       "    <tr>\n",
       "      <th>Date</th>\n",
       "      <th></th>\n",
       "      <th></th>\n",
       "    </tr>\n",
       "  </thead>\n",
       "  <tbody>\n",
       "    <tr>\n",
       "      <th>2022-01-02</th>\n",
       "      <td>Top 10 Growth Investing Stocks For 2022. Bitco...</td>\n",
       "      <td>Our preference towards growth investing is to ...</td>\n",
       "    </tr>\n",
       "    <tr>\n",
       "      <th>2022-01-03</th>\n",
       "      <td>Downgrading Intel. 3 Surefire Metaverse Stocks...</td>\n",
       "      <td>After about two quarters into his dream job, C...</td>\n",
       "    </tr>\n",
       "    <tr>\n",
       "      <th>2022-01-04</th>\n",
       "      <td>Tesla, Apple and This Chipmaker Are Seeing The...</td>\n",
       "      <td>Electric vehicle maker Tesla Inc. (NASDAQ: TSL...</td>\n",
       "    </tr>\n",
       "    <tr>\n",
       "      <th>2022-01-05</th>\n",
       "      <td>Nvidia's Bull Run May Continue, But Micron Is ...</td>\n",
       "      <td>Nvidia (NVDA) and Micron (MU) are 2 semiconduc...</td>\n",
       "    </tr>\n",
       "    <tr>\n",
       "      <th>2022-01-06</th>\n",
       "      <td>Nvidia DRIVE Orin Chip To Power Baidu's JiDU R...</td>\n",
       "      <td>U.S. listed Chinese internet giant Baidu Inc (...</td>\n",
       "    </tr>\n",
       "  </tbody>\n",
       "</table>\n",
       "</div>"
      ],
      "text/plain": [
       "                                                        Title  \\\n",
       "Date                                                            \n",
       "2022-01-02  Top 10 Growth Investing Stocks For 2022. Bitco...   \n",
       "2022-01-03  Downgrading Intel. 3 Surefire Metaverse Stocks...   \n",
       "2022-01-04  Tesla, Apple and This Chipmaker Are Seeing The...   \n",
       "2022-01-05  Nvidia's Bull Run May Continue, But Micron Is ...   \n",
       "2022-01-06  Nvidia DRIVE Orin Chip To Power Baidu's JiDU R...   \n",
       "\n",
       "                                                  Description  \n",
       "Date                                                           \n",
       "2022-01-02  Our preference towards growth investing is to ...  \n",
       "2022-01-03  After about two quarters into his dream job, C...  \n",
       "2022-01-04  Electric vehicle maker Tesla Inc. (NASDAQ: TSL...  \n",
       "2022-01-05  Nvidia (NVDA) and Micron (MU) are 2 semiconduc...  \n",
       "2022-01-06  U.S. listed Chinese internet giant Baidu Inc (...  "
      ]
     },
     "execution_count": 55,
     "metadata": {},
     "output_type": "execute_result"
    }
   ],
   "source": [
    "\n",
    "data_df = get_ticker_news('NVDA')\n",
    "\n",
    "data_df.head()"
   ]
  },
  {
   "cell_type": "code",
   "execution_count": null,
   "id": "630b9b9d-abaf-49af-8e31-cb59cc7f56ed",
   "metadata": {},
   "outputs": [],
   "source": []
  }
 ],
 "metadata": {
  "kernelspec": {
   "display_name": "Python 3 (ipykernel)",
   "language": "python",
   "name": "python3"
  },
  "language_info": {
   "codemirror_mode": {
    "name": "ipython",
    "version": 3
   },
   "file_extension": ".py",
   "mimetype": "text/x-python",
   "name": "python",
   "nbconvert_exporter": "python",
   "pygments_lexer": "ipython3",
   "version": "3.7.11"
  }
 },
 "nbformat": 4,
 "nbformat_minor": 5
}
