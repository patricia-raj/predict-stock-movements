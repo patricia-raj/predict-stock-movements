{
 "cells": [
  {
   "cell_type": "code",
   "execution_count": 3,
   "id": "fb0f3a0a-370e-4ad9-bfcb-f14530e3350e",
   "metadata": {},
   "outputs": [],
   "source": [
    "import pandas as pd"
   ]
  },
  {
   "cell_type": "code",
   "execution_count": 4,
   "id": "135a5f3c-110f-4257-8c06-0e2f8f94d4e4",
   "metadata": {},
   "outputs": [],
   "source": [
    "def get_ticker_news():\n",
    "    print('in progress..')\n",
    "    \n",
    "\n",
    "def get_ticker_price():\n",
    "    print('in progress...')"
   ]
  },
  {
   "cell_type": "code",
   "execution_count": null,
   "id": "610c540d-e593-4c1c-9801-dcd756f36f4a",
   "metadata": {},
   "outputs": [],
   "source": []
  }
 ],
 "metadata": {
  "kernelspec": {
   "display_name": "Python 3 (ipykernel)",
   "language": "python",
   "name": "python3"
  },
  "language_info": {
   "codemirror_mode": {
    "name": "ipython",
    "version": 3
   },
   "file_extension": ".py",
   "mimetype": "text/x-python",
   "name": "python",
   "nbconvert_exporter": "python",
   "pygments_lexer": "ipython3",
   "version": "3.7.11"
  }
 },
 "nbformat": 4,
 "nbformat_minor": 5
}
